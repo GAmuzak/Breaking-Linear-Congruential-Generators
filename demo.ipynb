{
 "cells": [
  {
   "cell_type": "code",
   "execution_count": 1,
   "metadata": {
    "vscode": {
     "languageId": "r"
    }
   },
   "outputs": [],
   "source": [
    "source(\"lcg_breaker.R\")"
   ]
  },
  {
   "cell_type": "code",
   "execution_count": 2,
   "metadata": {
    "vscode": {
     "languageId": "r"
    }
   },
   "outputs": [
    {
     "name": "stdout",
     "output_type": "stream",
     "text": [
      "[1] 30307\n",
      "[1] 147\n",
      "[1] 0\n"
     ]
    }
   ],
   "source": [
    "target <- c(2205, 21065, 5241, 12752, 25817, 6724, 18604, 7158, 21788, 20601)\n",
    "\n",
    "target_params = break_lcg(target)\n",
    "\n",
    "print(target_params@mod)\n",
    "print(target_params@a)\n",
    "print(target_params@c)"
   ]
  }
 ],
 "metadata": {
  "kernelspec": {
   "display_name": "R",
   "language": "R",
   "name": "ir"
  },
  "language_info": {
   "codemirror_mode": "r",
   "file_extension": ".r",
   "mimetype": "text/x-r-source",
   "name": "R",
   "pygments_lexer": "r",
   "version": "4.4.1"
  }
 },
 "nbformat": 4,
 "nbformat_minor": 2
}
